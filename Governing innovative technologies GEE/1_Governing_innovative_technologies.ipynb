{
  "nbformat": 4,
  "nbformat_minor": 0,
  "metadata": {
    "colab": {
      "provenance": []
    },
    "kernelspec": {
      "name": "python3",
      "display_name": "Python 3"
    },
    "language_info": {
      "name": "python"
    }
  },
  "cells": [
    {
      "cell_type": "markdown",
      "source": [
        "# **Google Colab**\n",
        "\n",
        "\n",
        "Google Colaboratory (Google Colab) is a cloud-based Jupyter notebook environment provided by Google. Colab offers a convenient and interactive platform for writing, executing, and sharing Python code online. You can access it from any device as long as you have an internet connection. A notebook is composed of text or code cells that can be ran individually or sequentially (from top to bottom).\n",
        "\n",
        "***Text Blocks (Markdown Cells):*** Text blocks, like the one you are currently reading, are ignored when running the code. They allow you to add headers and subheaders, add bullet points and lists, include mathematical equations using LaTeX syntax, provide descriptions, instructions, or any other information related to your code. These text blocks utilize the markdown language for formatting. For a quick reference, you can consult: [Markdown Cheat Sheet](https://www.markdownguide.org/cheat-sheet/).\n",
        "\n",
        "\n",
        "\n",
        "***Code Cells***: are used for writing and executing Python code within the notebook. These cells allow you to write and run code, perform data analysis, or develop machine learning models. Code cells support syntax highlighting and it highlight errors. Cells can be executed by clicking the \"Play\" button on the left hand side of the cell (Shift+Enter). The results will be displayed below the cell if applicable (don't forget to print()!).\n",
        "\n",
        "\n",
        "\n",
        "***Why are we using Google Colab?***\n",
        "* ***Google Earth Engine & Google Drive:*** One of the primary motivations for utilizing Colab is its integration with Google Earth Engine and Google Drive. This integration allows you to leverage the capabilities of Google Earth Engine directly within Colab. [Google Earth Engine.](https://code.earthengine.google.com/) Colab also integrates with Google Drive, allowing you to import and export data.\n",
        "\n",
        "* ***Free, Cloud-based, and Collaborative:*** Colab is free and requires no installation as it is cloud based. All your code and data are stored in the cloud, allowing you and your teammates to be able to access it from anywhere (with an internet connection) and work in it simultaneously.\n",
        "\n",
        "* ***GPU and TPU Support***: Colab provides really powerful GPUs (Graphics Processing Units) and TPUs (Tensor Processing Units). This is useful for running computationally intensive tasks (like our machine and deep learning tasks we will be running). It helps accelerate training times and enables you to work with large datasets more effectively.\n",
        "\n",
        "\n",
        "***Hot Keys***\n",
        "- **Ctrl/Cmd+M, S**: Save the notebook\n",
        "- **Ctrl/Cmd+M, D**: Delete the current cell\n",
        "- **Ctrl/Cmd+M, I**: Interrupt the kernel (stop the execution of a cell)\n",
        "- **Ctrl/Cmd+M, B**: Insert a new code cell below the current cell\n",
        "- **Ctrl/Cmd+M, A**: Insert a new code cell above the current cell\n",
        "- **Ctrl/Cmd+M, M**: Convert the current cell to a markdown cell for text formatting\n",
        "- **Ctrl/Cmd+M, Y**: Convert the current cell back to a code cell\n",
        "- **Ctrl/Cmd+M, Enter**: Enter edit mode for the current cell\n",
        "- **Ctrl/Cmd+M, P**: Open the command palette to access various commands"
      ],
      "metadata": {
        "id": "UIiYlppDnwH0"
      }
    },
    {
      "cell_type": "markdown",
      "source": [
        "# **Python Referesher**"
      ],
      "metadata": {
        "id": "uHz6tdDilAf6"
      }
    },
    {
      "cell_type": "markdown",
      "source": [
        "# **Variables**\n",
        "Variables are used to store information in python. Variables are a way to store and refer to data in your code. Variables serve as placeholders/ containers that can store different types of data. Including: numbers, strings, lists, or more complex objects. When you assign a value to a variable, python stores that value and associates to the name of the variable. This allows you to access and change/manipulate the value/s stored there throughout your code.\n",
        "\n",
        "***Variables characteristics:***\n",
        "\n",
        "*  ***Naming rules***: They can contain letters (uppercase/lowercase), digits, and underscores (_). Though names cannot start with a digit. Additionally, python is case-sensitive, so variables named \"Variable\" and \"variable\" (please don't name them this) are considered different variables.\n",
        "*   ***Assignment***: To assign a value to a variable, you use the equals (=) sign.\n",
        "* ***Dynamic Typing***: The type of variable is determined by the value assigned to it. EX: If you assign an integer (ex: 3) to a variable, it automatically becomes an integer. It also allows you to reassign variables with different types of values while executing.\n",
        "* ***Accessibility of Data***: Variables can be accessed and used throughout your code depending upon the scope where they were defined. The scope defines the portion of the code where a variable is accessible. Variables can have either global scope (accessible from anywhere in the code) or local scope (accessible only within a specific function or block of code)."
      ],
      "metadata": {
        "id": "ZT74j8Urts8b"
      }
    },
    {
      "cell_type": "markdown",
      "source": [
        "## **Numbers**\n",
        "One of the most simple data types that can be stored in a variable is a Number. This includes: integers, floats, and complex numbers.\n",
        "\n",
        "* ***Integers***: Integers are whole numbers and can be positive or negative Ex: -1, 2, 320, 4000, etc.\n",
        "\n",
        "* ***Floating-Point Numbers (Floats)***: Floats represent numbers with decimal points or fractions and can also be positive or negative. Ex: -1.612, 2.2233, 0.0001, etc.\n",
        "\n",
        "**Mathmatical operations**:\n",
        "\n",
        "* addition (+)\n",
        "* subtraction (-)\n",
        "* multiplication (*)\n",
        "* division (/) *important to note that this will save as a float"
      ],
      "metadata": {
        "id": "FFs0E_mreYMl"
      }
    },
    {
      "cell_type": "markdown",
      "source": [
        "### Integers"
      ],
      "metadata": {
        "id": "jK_c-1g8RZfz"
      }
    },
    {
      "cell_type": "code",
      "source": [
        "a = 2\n",
        "b = 4\n",
        "print(a)\n",
        "print(b)\n",
        "print(type(a))\n",
        "print(type(b))\n"
      ],
      "metadata": {
        "id": "gcw0kj4Peg3e",
        "colab": {
          "base_uri": "https://localhost:8080/"
        },
        "outputId": "3279eeb5-aac4-4462-f708-85208a008757"
      },
      "execution_count": 1,
      "outputs": [
        {
          "output_type": "stream",
          "name": "stdout",
          "text": [
            "2\n",
            "4\n",
            "<class 'int'>\n",
            "<class 'int'>\n"
          ]
        }
      ]
    },
    {
      "cell_type": "code",
      "source": [
        "# Addition\n",
        "addition = a + b\n",
        "print(addition)\n",
        "print(type(addition))\n",
        "addition_a = a + 5\n",
        "print(addition_a)\n",
        "print(type(addition_a))\n"
      ],
      "metadata": {
        "id": "5AOtfmghM5Ta",
        "colab": {
          "base_uri": "https://localhost:8080/"
        },
        "outputId": "7a4307ba-d3a2-49b8-b6f6-b3db0d979762"
      },
      "execution_count": 2,
      "outputs": [
        {
          "output_type": "stream",
          "name": "stdout",
          "text": [
            "6\n",
            "<class 'int'>\n",
            "7\n",
            "<class 'int'>\n"
          ]
        }
      ]
    },
    {
      "cell_type": "code",
      "source": [
        "# Subtraction\n",
        "subtraction = a - b\n",
        "print(subtraction)\n",
        "print(type(subtraction))\n",
        "subtraction_a = a - 1\n",
        "print(subtraction_a)\n",
        "print(type(subtraction_a))"
      ],
      "metadata": {
        "id": "dMce2azUOteA",
        "colab": {
          "base_uri": "https://localhost:8080/"
        },
        "outputId": "7e1b5f08-08a1-4ce6-a11f-214236cf50fc"
      },
      "execution_count": 3,
      "outputs": [
        {
          "output_type": "stream",
          "name": "stdout",
          "text": [
            "-2\n",
            "<class 'int'>\n",
            "1\n",
            "<class 'int'>\n"
          ]
        }
      ]
    },
    {
      "cell_type": "code",
      "source": [
        "# Multiplication\n",
        "multiplication = a*b\n",
        "print(multiplication)\n",
        "print(type(multiplication))\n",
        "multiplication_a = a*2\n",
        "print(multiplication_a)\n",
        "print(type(multiplication_a))\n"
      ],
      "metadata": {
        "id": "jdCuUiucN5eM",
        "colab": {
          "base_uri": "https://localhost:8080/"
        },
        "outputId": "458367a2-7d69-4a82-ebb9-babb91e6e441"
      },
      "execution_count": 4,
      "outputs": [
        {
          "output_type": "stream",
          "name": "stdout",
          "text": [
            "8\n",
            "<class 'int'>\n",
            "4\n",
            "<class 'int'>\n"
          ]
        }
      ]
    },
    {
      "cell_type": "code",
      "source": [
        "# Division\n",
        "division = a/b\n",
        "print(division)\n",
        "print(type(division))\n",
        "division_a = a/2\n",
        "print(division_a)\n",
        "print(type(division))"
      ],
      "metadata": {
        "id": "3LcufjV4RFmn",
        "colab": {
          "base_uri": "https://localhost:8080/"
        },
        "outputId": "6a6e5aeb-22ce-405c-b972-98ecdb9f408e"
      },
      "execution_count": 5,
      "outputs": [
        {
          "output_type": "stream",
          "name": "stdout",
          "text": [
            "0.5\n",
            "<class 'float'>\n",
            "1.0\n",
            "<class 'float'>\n"
          ]
        }
      ]
    },
    {
      "cell_type": "markdown",
      "source": [
        "### Floats"
      ],
      "metadata": {
        "id": "FvcJIGK-RcKw"
      }
    },
    {
      "cell_type": "code",
      "source": [
        "a = 2.7\n",
        "b = 4.6\n",
        "print(a)\n",
        "print(b)\n",
        "print(type(a))\n",
        "print(type(b))"
      ],
      "metadata": {
        "id": "I6CyNCFtRbzO",
        "colab": {
          "base_uri": "https://localhost:8080/"
        },
        "outputId": "2074a352-4f20-4ed5-c588-d9a9770b4bb2"
      },
      "execution_count": 6,
      "outputs": [
        {
          "output_type": "stream",
          "name": "stdout",
          "text": [
            "2.7\n",
            "4.6\n",
            "<class 'float'>\n",
            "<class 'float'>\n"
          ]
        }
      ]
    },
    {
      "cell_type": "code",
      "source": [
        "# Addition\n",
        "addition = a + b\n",
        "print(addition)\n",
        "print(type(addition))\n",
        "addition_a = a + 5\n",
        "print(addition_a)\n",
        "print(type(addition_a))"
      ],
      "metadata": {
        "id": "tieXPOmFRljM",
        "colab": {
          "base_uri": "https://localhost:8080/"
        },
        "outputId": "84b737a7-497f-4102-f029-bc3acf1f5e4b"
      },
      "execution_count": 7,
      "outputs": [
        {
          "output_type": "stream",
          "name": "stdout",
          "text": [
            "7.3\n",
            "<class 'float'>\n",
            "7.7\n",
            "<class 'float'>\n"
          ]
        }
      ]
    },
    {
      "cell_type": "code",
      "source": [
        "# Subtraction\n",
        "subtraction = a - b\n",
        "print(subtraction)\n",
        "print(type(subtraction))\n",
        "subtraction_a = a - 1\n",
        "print(subtraction_a)\n",
        "print(type(subtraction_a))"
      ],
      "metadata": {
        "id": "5gLzAd8_RldH",
        "colab": {
          "base_uri": "https://localhost:8080/"
        },
        "outputId": "e729fe33-7b42-4421-bfb9-a696e35d9e09"
      },
      "execution_count": 8,
      "outputs": [
        {
          "output_type": "stream",
          "name": "stdout",
          "text": [
            "-1.8999999999999995\n",
            "<class 'float'>\n",
            "1.7000000000000002\n",
            "<class 'float'>\n"
          ]
        }
      ]
    },
    {
      "cell_type": "code",
      "source": [
        "# Multiplication\n",
        "multiplication = a*b\n",
        "print(multiplication)\n",
        "print(type(multiplication))\n",
        "multiplication_a = a*2\n",
        "print(multiplication_a)\n",
        "print(type(multiplication_a))"
      ],
      "metadata": {
        "id": "atYRK-DaRlZU",
        "colab": {
          "base_uri": "https://localhost:8080/"
        },
        "outputId": "0c414c3d-91af-469e-cc4f-76a30f1562d4"
      },
      "execution_count": 9,
      "outputs": [
        {
          "output_type": "stream",
          "name": "stdout",
          "text": [
            "12.42\n",
            "<class 'float'>\n",
            "5.4\n",
            "<class 'float'>\n"
          ]
        }
      ]
    },
    {
      "cell_type": "code",
      "source": [
        "# Division\n",
        "division = a/b\n",
        "print(division)\n",
        "print(type(division))\n",
        "division_a = a/2\n",
        "print(division_a)\n",
        "print(type(division))"
      ],
      "metadata": {
        "id": "oOQCrixQRlVO",
        "colab": {
          "base_uri": "https://localhost:8080/"
        },
        "outputId": "e22fac1a-8d4b-48b4-f67f-5dd40ada63b8"
      },
      "execution_count": 10,
      "outputs": [
        {
          "output_type": "stream",
          "name": "stdout",
          "text": [
            "0.5869565217391305\n",
            "<class 'float'>\n",
            "1.35\n",
            "<class 'float'>\n"
          ]
        }
      ]
    },
    {
      "cell_type": "markdown",
      "source": [
        "## **String**\n",
        "A string is a sequence of characters (ie: text). Strings can be used to change/manipulate text (can update a combination of letters, numbers, symbols, and spaces). Strings can very easily be created by enclosing the text within quotes (single '' or double \"\").\n",
        "\n",
        "\n",
        "***String Characteristics:***\n",
        "* ***Indexing***: Indexing allows you to select and access individual characters of a string\n",
        "* ***Slicing***: Slicing allows you to select and extract a portion of a string. It allows you to specify a range of indices to retrieve a substring\n",
        "* ***Concatenation:*** You can concatenate strings using the + operator. This allows you to combine two (or more) strings into a single string\n",
        "* ***Utility Functions:*** There are several, pre-built-in functions for strings to perform various operations. These functions allow you to manipulate and transform strings.\n",
        "* ***Formatting***: There are also different ways to format strings. One of the most common approachs is to use the format() method or f-strings (formatted string literals). These allow you to insert dynamic values into strings.\n"
      ],
      "metadata": {
        "id": "py2O0xqCONr2"
      }
    },
    {
      "cell_type": "code",
      "source": [
        "country = \"Germany\"\n",
        "print(country)\n",
        "print(type(country))"
      ],
      "metadata": {
        "id": "KN_9-m0DNr_J",
        "colab": {
          "base_uri": "https://localhost:8080/"
        },
        "outputId": "4f693ec4-2ea0-49f1-ac7b-802cba29ba90"
      },
      "execution_count": 11,
      "outputs": [
        {
          "output_type": "stream",
          "name": "stdout",
          "text": [
            "Germany\n",
            "<class 'str'>\n"
          ]
        }
      ]
    },
    {
      "cell_type": "code",
      "source": [
        "#Concatenation - Addition\n",
        "intro = \"I live in:\"\n",
        "ending = \"It is nice here\"\n",
        "message = intro +\" \" + country + \". \" + ending  + \"!\"\n",
        "print(message)"
      ],
      "metadata": {
        "id": "UsgALA2aTGCR",
        "colab": {
          "base_uri": "https://localhost:8080/"
        },
        "outputId": "7f78cd59-94ee-4914-f9a8-e581a5ffb791"
      },
      "execution_count": 12,
      "outputs": [
        {
          "output_type": "stream",
          "name": "stdout",
          "text": [
            "I live in: Germany. It is nice here!\n"
          ]
        }
      ]
    },
    {
      "cell_type": "code",
      "source": [
        "#Concatenation - Multiplication\n",
        "germany_3_times = country*3\n",
        "print(germany_3_times)\n",
        "print(type(germany_3_times))"
      ],
      "metadata": {
        "id": "sm35KSvMUKhD",
        "colab": {
          "base_uri": "https://localhost:8080/"
        },
        "outputId": "58cd7010-ad83-4e5e-f091-6e06bc523b25"
      },
      "execution_count": 13,
      "outputs": [
        {
          "output_type": "stream",
          "name": "stdout",
          "text": [
            "GermanyGermanyGermany\n",
            "<class 'str'>\n"
          ]
        }
      ]
    },
    {
      "cell_type": "code",
      "source": [
        "# If you would like to write a long string of text, three quotation marks are needed (\"\"\").\n",
        "sun = \"\"\"Today it is really pretty outside.\n",
        "The sun is shinning and the birds are chirping.\n",
        "I think I'll go for a walk.\"\"\"\n",
        "\n",
        "print(sun)"
      ],
      "metadata": {
        "id": "3mhM9zKkTkL4",
        "colab": {
          "base_uri": "https://localhost:8080/"
        },
        "outputId": "030f222a-daf2-43f9-f0af-97dd35ef9f69"
      },
      "execution_count": 14,
      "outputs": [
        {
          "output_type": "stream",
          "name": "stdout",
          "text": [
            "Today it is really pretty outside.\n",
            "The sun is shinning and the birds are chirping.\n",
            "I think I'll go for a walk.\n"
          ]
        }
      ]
    },
    {
      "cell_type": "code",
      "source": [
        "#Indexing\n",
        "\n",
        "#Germany\n",
        "print(country[0])  # selects the letter that is in the 0 place\n",
        "print(country[1])  # selects the letter that is in the 1 place"
      ],
      "metadata": {
        "id": "c2eDSKCNUgXl",
        "colab": {
          "base_uri": "https://localhost:8080/"
        },
        "outputId": "f0246b10-d5e2-4f48-ba03-a38885d93ca4"
      },
      "execution_count": 15,
      "outputs": [
        {
          "output_type": "stream",
          "name": "stdout",
          "text": [
            "G\n",
            "e\n"
          ]
        }
      ]
    },
    {
      "cell_type": "code",
      "source": [
        "#Slicing\n",
        "print(country[0:3])\n",
        "print(country[6:])"
      ],
      "metadata": {
        "id": "ALR3ENulV1DS",
        "colab": {
          "base_uri": "https://localhost:8080/"
        },
        "outputId": "a15e07d0-156c-4679-b88b-d917fb92097f"
      },
      "execution_count": 16,
      "outputs": [
        {
          "output_type": "stream",
          "name": "stdout",
          "text": [
            "Ger\n",
            "y\n"
          ]
        }
      ]
    },
    {
      "cell_type": "code",
      "source": [
        "#Utility Functions\n",
        "\n",
        "hello = \"Hello, Class!\"\n",
        "print(hello.upper())\n",
        "print(hello.lower())\n",
        "print(hello.replace(\"Class\", \"team\"))\n",
        "print(hello.split(\", \"))"
      ],
      "metadata": {
        "id": "T_HmsNCfX__C",
        "colab": {
          "base_uri": "https://localhost:8080/"
        },
        "outputId": "679480ae-e734-4d6a-8ad1-dc813b57c84c"
      },
      "execution_count": 17,
      "outputs": [
        {
          "output_type": "stream",
          "name": "stdout",
          "text": [
            "HELLO, CLASS!\n",
            "hello, class!\n",
            "Hello, team!\n",
            "['Hello', 'Class!']\n"
          ]
        }
      ]
    },
    {
      "cell_type": "code",
      "source": [
        "# Utility Functions - Length\n",
        "print(len(country))"
      ],
      "metadata": {
        "id": "BK7fIc8LU4-D",
        "colab": {
          "base_uri": "https://localhost:8080/"
        },
        "outputId": "251ce9eb-7f90-4de7-c30e-f23052a0ac52"
      },
      "execution_count": 18,
      "outputs": [
        {
          "output_type": "stream",
          "name": "stdout",
          "text": [
            "7\n"
          ]
        }
      ]
    },
    {
      "cell_type": "code",
      "source": [
        "# Utility Functions - Join\n",
        "\n",
        "hello_class_list = ['Hello', 'Class']\n",
        "separator = '- '\n",
        "print(separator.join(hello_class_list))"
      ],
      "metadata": {
        "id": "Kz6GWXtmZgK5",
        "colab": {
          "base_uri": "https://localhost:8080/"
        },
        "outputId": "0617cbc3-9f51-4c05-9a74-7c348f0ae601"
      },
      "execution_count": 19,
      "outputs": [
        {
          "output_type": "stream",
          "name": "stdout",
          "text": [
            "Hello- Class\n"
          ]
        }
      ]
    },
    {
      "cell_type": "code",
      "source": [
        "#Formatting\n",
        "\n",
        "school = \"Technical University of Munich\"\n",
        "year = 1868\n",
        "print(\"The {} was founded in {}.\".format(school, year))\n",
        "\n",
        "\n",
        "print(f\"The {school} was founded in {year}.\")\n"
      ],
      "metadata": {
        "id": "Mn8dNNc-YPHU",
        "colab": {
          "base_uri": "https://localhost:8080/"
        },
        "outputId": "527f2a1f-6f8b-4336-d56f-f97c013fd953"
      },
      "execution_count": 20,
      "outputs": [
        {
          "output_type": "stream",
          "name": "stdout",
          "text": [
            "The Technical University of Munich was founded in 1868.\n",
            "The Technical University of Munich was founded in 1868.\n"
          ]
        }
      ]
    },
    {
      "cell_type": "markdown",
      "source": [
        "## **Binary Values**\n",
        "\n",
        "Binary values (Boolean values) are a special set of numbers that are either 1 or 0 (true/True or false/False). The main operations for booleans are: (1) not, (2) and, (3) or. There are also arthimetic operators: (1) equal, (2) less than, (3) greater than, (4) not equal, (5) less than or equal, (6) greater than or equal."
      ],
      "metadata": {
        "id": "FHICJEBmR4HF"
      }
    },
    {
      "cell_type": "code",
      "source": [
        "t = True\n",
        "f = False\n",
        "print(t)\n",
        "print(type(t))\n",
        "\n",
        "print(f)\n",
        "print(type(f))"
      ],
      "metadata": {
        "id": "sZcp3DWTR3-Q",
        "colab": {
          "base_uri": "https://localhost:8080/"
        },
        "outputId": "2fe0e7c7-32ca-49a3-a6a0-691b1960c65f"
      },
      "execution_count": 21,
      "outputs": [
        {
          "output_type": "stream",
          "name": "stdout",
          "text": [
            "True\n",
            "<class 'bool'>\n",
            "False\n",
            "<class 'bool'>\n"
          ]
        }
      ]
    },
    {
      "cell_type": "code",
      "source": [
        "#Boolean - not\n",
        "Boolean_Not = not t # opposite of True\n",
        "print(Boolean_Not)\n",
        "print(type(Boolean_Not))"
      ],
      "metadata": {
        "id": "5O60D2saR3f8",
        "colab": {
          "base_uri": "https://localhost:8080/"
        },
        "outputId": "8e097fc9-78a6-43b6-da3f-8c85378da610"
      },
      "execution_count": 22,
      "outputs": [
        {
          "output_type": "stream",
          "name": "stdout",
          "text": [
            "False\n",
            "<class 'bool'>\n"
          ]
        }
      ]
    },
    {
      "cell_type": "code",
      "source": [
        "#Boolean - and\n",
        "Boolean_And = t and f # both variables must be True in an \"and\" for the result to be True\n",
        "print(Boolean_And)\n",
        "print(type(Boolean_And))"
      ],
      "metadata": {
        "id": "yFrEaYkpZH_E",
        "colab": {
          "base_uri": "https://localhost:8080/"
        },
        "outputId": "f94f7b37-cb18-4ed7-acd2-7048fd332580"
      },
      "execution_count": 23,
      "outputs": [
        {
          "output_type": "stream",
          "name": "stdout",
          "text": [
            "False\n",
            "<class 'bool'>\n"
          ]
        }
      ]
    },
    {
      "cell_type": "code",
      "source": [
        "#Boolean - or\n",
        "Boolean_Or = t or f # at least one variable must be True for result to be True\n",
        "print(Boolean_Or)\n",
        "print(type(Boolean_Or))"
      ],
      "metadata": {
        "id": "e4LKdQazZH5I",
        "colab": {
          "base_uri": "https://localhost:8080/"
        },
        "outputId": "f571fe5e-24bf-4b3b-f7ba-5e0a843a57b2"
      },
      "execution_count": 24,
      "outputs": [
        {
          "output_type": "stream",
          "name": "stdout",
          "text": [
            "True\n",
            "<class 'bool'>\n"
          ]
        }
      ]
    },
    {
      "cell_type": "code",
      "source": [
        "#Arithmetic Operators\n",
        "a = 5\n",
        "b = 4\n",
        "Boolean_Equal = a == b\n",
        "Boolean_NotEqual = a != b\n",
        "Boolean_LessThan = a < b\n",
        "Boolean_GreaterThan_EqualTo = a >= b\n",
        "print(Boolean_Equal)\n",
        "print(Boolean_NotEqual)\n",
        "print(Boolean_LessThan)\n",
        "print(Boolean_GreaterThan_EqualTo)"
      ],
      "metadata": {
        "id": "1L7bW1N_ac3s",
        "colab": {
          "base_uri": "https://localhost:8080/"
        },
        "outputId": "8de378b4-c13e-4885-f4d7-3066fb56bd4d"
      },
      "execution_count": 25,
      "outputs": [
        {
          "output_type": "stream",
          "name": "stdout",
          "text": [
            "False\n",
            "True\n",
            "False\n",
            "True\n"
          ]
        }
      ]
    },
    {
      "cell_type": "markdown",
      "source": [
        "# **List, Dictionaries, and Functions**"
      ],
      "metadata": {
        "id": "gf2WK9MrbW72"
      }
    },
    {
      "cell_type": "markdown",
      "source": [
        "## **Lists**\n",
        "A list allows you to store and organize a collection of values and is indicated by [].\n",
        "\n",
        "***List Characteristics:***\n",
        "\n",
        "* ***Ordered:*** Values within a list have a specific position or index. You can access individual values by their index. The first value starts at 0.\n",
        "\n",
        "* ***Mutable:*** You can modify lists by adding, removing, or changing values. This flexibility allows you to update or manipulate the contents of a list as needed.\n",
        "\n",
        "* ***Heterogeneous:*** A list can contain integers, strings, and even other lists.\n",
        "\n",
        "* ***Nesting:*** Lists can be nested within each other. This allows you to store complex data structures or to create multidimensional lists. You can use this to better help organize your data.\n",
        "\n",
        "* ***Iterability:*** You can iterate over each value within a list (like by using loops). This makes performing operations on each item of the list significantly easier."
      ],
      "metadata": {
        "id": "F-Y1y50chN6h"
      }
    },
    {
      "cell_type": "code",
      "source": [
        "cities = [\"Munich\", \"Berlin\", \"Paris\", \"London\"]"
      ],
      "metadata": {
        "id": "vdbd0-F49qX9"
      },
      "execution_count": 26,
      "outputs": []
    },
    {
      "cell_type": "code",
      "source": [
        "#Ordered / Index\n",
        "print(cities[0])"
      ],
      "metadata": {
        "id": "6uUPBBzW9yyF",
        "colab": {
          "base_uri": "https://localhost:8080/"
        },
        "outputId": "ca02bcd6-4e5a-4e57-ebf5-29b827662814"
      },
      "execution_count": 27,
      "outputs": [
        {
          "output_type": "stream",
          "name": "stdout",
          "text": [
            "Munich\n"
          ]
        }
      ]
    },
    {
      "cell_type": "code",
      "source": [
        "#Mutable - append\n",
        "cities.append(\"Lisbon\")\n",
        "print(cities)"
      ],
      "metadata": {
        "id": "t3Vdxbrp95OJ",
        "colab": {
          "base_uri": "https://localhost:8080/"
        },
        "outputId": "2b3dba38-3f2a-41a1-bae5-2331dfc5b582"
      },
      "execution_count": 28,
      "outputs": [
        {
          "output_type": "stream",
          "name": "stdout",
          "text": [
            "['Munich', 'Berlin', 'Paris', 'London', 'Lisbon']\n"
          ]
        }
      ]
    },
    {
      "cell_type": "code",
      "source": [
        "#Mutable - remove\n",
        "\n",
        "cities.remove(\"Paris\")\n",
        "print(cities)"
      ],
      "metadata": {
        "id": "vVzaqZTg-QJu",
        "colab": {
          "base_uri": "https://localhost:8080/"
        },
        "outputId": "86b92894-c23c-4b62-c28d-32d5f3bcf832"
      },
      "execution_count": 29,
      "outputs": [
        {
          "output_type": "stream",
          "name": "stdout",
          "text": [
            "['Munich', 'Berlin', 'London', 'Lisbon']\n"
          ]
        }
      ]
    },
    {
      "cell_type": "code",
      "source": [
        "#Heterogeneous\n",
        "cities.append(5)\n",
        "print(cities)"
      ],
      "metadata": {
        "id": "nbZrZ5UE-fMu",
        "colab": {
          "base_uri": "https://localhost:8080/"
        },
        "outputId": "0a974b2e-ee78-4c20-b384-6670439b15e9"
      },
      "execution_count": 30,
      "outputs": [
        {
          "output_type": "stream",
          "name": "stdout",
          "text": [
            "['Munich', 'Berlin', 'London', 'Lisbon', 5]\n"
          ]
        }
      ]
    },
    {
      "cell_type": "code",
      "source": [
        "#Nesting\n",
        "## number is city population in millions\n",
        "nested_cities = [\n",
        "    [\"Munich\", 1.47, \"Germany\"],\n",
        "    [\"Berlin\", 3.65, \"Germany\"],\n",
        "    [\"Paris\", 2.16, \"France\"],\n",
        "    [\"London\", 8.98, \"United Kingdom\"]\n",
        "]\n",
        "print(nested_cities)"
      ],
      "metadata": {
        "id": "Oxj0RWNc-qCO",
        "colab": {
          "base_uri": "https://localhost:8080/"
        },
        "outputId": "28f4f544-0b9d-4f21-a747-42cf66a3dec5"
      },
      "execution_count": 31,
      "outputs": [
        {
          "output_type": "stream",
          "name": "stdout",
          "text": [
            "[['Munich', 1.47, 'Germany'], ['Berlin', 3.65, 'Germany'], ['Paris', 2.16, 'France'], ['London', 8.98, 'United Kingdom']]\n"
          ]
        }
      ]
    },
    {
      "cell_type": "code",
      "source": [
        "# Nesting - accessing values\n",
        "print(nested_cities[0])\n",
        "print(nested_cities[2][0])\n",
        "print(nested_cities[3][1])"
      ],
      "metadata": {
        "id": "K_AHcr4Z_NZ4",
        "colab": {
          "base_uri": "https://localhost:8080/"
        },
        "outputId": "52373a73-bbea-4dba-fb7f-8c5afb6ed498"
      },
      "execution_count": 32,
      "outputs": [
        {
          "output_type": "stream",
          "name": "stdout",
          "text": [
            "['Munich', 1.47, 'Germany']\n",
            "Paris\n",
            "8.98\n"
          ]
        }
      ]
    },
    {
      "cell_type": "code",
      "source": [
        "# Nesting - modifying values\n",
        "nested_cities[1][1] = 3.8\n",
        "print(nested_cities[1])"
      ],
      "metadata": {
        "id": "YuwfDCbM_U4A",
        "colab": {
          "base_uri": "https://localhost:8080/"
        },
        "outputId": "65a26c50-3207-4082-f565-24a9a13acf6b"
      },
      "execution_count": 33,
      "outputs": [
        {
          "output_type": "stream",
          "name": "stdout",
          "text": [
            "['Berlin', 3.8, 'Germany']\n"
          ]
        }
      ]
    },
    {
      "cell_type": "code",
      "source": [
        "#Nesting - adding\n",
        "nested_cities.append([\"Rome\", 2.7, \"Italy\"])\n",
        "print(nested_cities)"
      ],
      "metadata": {
        "id": "R5YkQhO7_b2C",
        "colab": {
          "base_uri": "https://localhost:8080/"
        },
        "outputId": "60829099-e08c-4ae3-8c10-6bec6c349742"
      },
      "execution_count": 34,
      "outputs": [
        {
          "output_type": "stream",
          "name": "stdout",
          "text": [
            "[['Munich', 1.47, 'Germany'], ['Berlin', 3.8, 'Germany'], ['Paris', 2.16, 'France'], ['London', 8.98, 'United Kingdom'], ['Rome', 2.7, 'Italy']]\n"
          ]
        }
      ]
    },
    {
      "cell_type": "code",
      "source": [
        "#Iteration\n",
        "for info in nested_cities:\n",
        "    print(\"City:\", info[0])\n",
        "    print(\"Population:\", info[1])\n",
        "    print(\"Country:\", info[2])\n",
        "    print(\"---------------------\")"
      ],
      "metadata": {
        "id": "6V-Ks5hD_8uQ",
        "colab": {
          "base_uri": "https://localhost:8080/"
        },
        "outputId": "f6620835-b301-4e92-c479-0ede90099e97"
      },
      "execution_count": 35,
      "outputs": [
        {
          "output_type": "stream",
          "name": "stdout",
          "text": [
            "City: Munich\n",
            "Population: 1.47\n",
            "Country: Germany\n",
            "---------------------\n",
            "City: Berlin\n",
            "Population: 3.8\n",
            "Country: Germany\n",
            "---------------------\n",
            "City: Paris\n",
            "Population: 2.16\n",
            "Country: France\n",
            "---------------------\n",
            "City: London\n",
            "Population: 8.98\n",
            "Country: United Kingdom\n",
            "---------------------\n",
            "City: Rome\n",
            "Population: 2.7\n",
            "Country: Italy\n",
            "---------------------\n"
          ]
        }
      ]
    },
    {
      "cell_type": "markdown",
      "source": [
        "## **Dictionaries**\n",
        "\n",
        "\n",
        "\n",
        "\n",
        "\n"
      ],
      "metadata": {
        "id": "ZtzV2-g4hUUo"
      }
    },
    {
      "cell_type": "markdown",
      "source": [
        "A dictionary allows you to store and retrieve data using key-value pairs and are indicated by {}. Unlike lists, you access dictionaries by their keys rather than their positions\n",
        "\n",
        "***Dictionary Characteristics:***\n",
        "\n",
        "***Key-Value Pairs:*** Each key is unique, maps to a corresponding value, and are used to retrieve their associated values. The key-value pairs are surrounded by curly braces {} and each pair is separated by a colon : .\n",
        "\n",
        "***Mutable:*** You can modify dictionaries by adding, removing, or updating key-value pairs.\n",
        "\n",
        "***Heterogeneous:*** A dictionary can contain integers, strings, lists or even other dictionaries.\n"
      ],
      "metadata": {
        "id": "WnPGr3jsAxft"
      }
    },
    {
      "cell_type": "code",
      "source": [
        "#Dictionary\n",
        "university = {\n",
        "    \"name\": \"TUM\",\n",
        "    \"found\": 1868,\n",
        "    \"city\": \"Munich\"\n",
        "}"
      ],
      "metadata": {
        "id": "p2ubSS0D6mbg"
      },
      "execution_count": 36,
      "outputs": []
    },
    {
      "cell_type": "code",
      "source": [
        "#Accessing Key-Value Pairs\n",
        "print(university[\"name\"])\n",
        "print(university[\"found\"])"
      ],
      "metadata": {
        "id": "ZjEvp1_N60ix",
        "colab": {
          "base_uri": "https://localhost:8080/"
        },
        "outputId": "4560a751-d7cf-42b3-fd05-78c027f1b311"
      },
      "execution_count": 37,
      "outputs": [
        {
          "output_type": "stream",
          "name": "stdout",
          "text": [
            "TUM\n",
            "1868\n"
          ]
        }
      ]
    },
    {
      "cell_type": "code",
      "source": [
        "#Mutable - append\n",
        "university[\"country\"] = \"Germany\"\n",
        "print(university)"
      ],
      "metadata": {
        "id": "7ZeXCEKnE8HH",
        "colab": {
          "base_uri": "https://localhost:8080/"
        },
        "outputId": "9f374e67-c7f5-41cb-e360-64922916da57"
      },
      "execution_count": 38,
      "outputs": [
        {
          "output_type": "stream",
          "name": "stdout",
          "text": [
            "{'name': 'TUM', 'found': 1868, 'city': 'Munich', 'country': 'Germany'}\n"
          ]
        }
      ]
    },
    {
      "cell_type": "code",
      "source": [
        "#Mutable - remove\n",
        "del university[\"found\"]\n",
        "print(university)"
      ],
      "metadata": {
        "id": "tkr7j0iKFBup",
        "colab": {
          "base_uri": "https://localhost:8080/"
        },
        "outputId": "17155086-5f86-4093-b37b-94fe36ec6c82"
      },
      "execution_count": 39,
      "outputs": [
        {
          "output_type": "stream",
          "name": "stdout",
          "text": [
            "{'name': 'TUM', 'city': 'Munich', 'country': 'Germany'}\n"
          ]
        }
      ]
    },
    {
      "cell_type": "markdown",
      "source": [
        "## **Functions**\n",
        "Functions are reusable blocks of code that perform a specific task or a series of tasks. They allow you to organize your code, promote reusability, and make your programs more modular. Functions take input parameters (if required), perform operations, and may return an output value.\n",
        "\n",
        "* ***Modularity:*** Functions break down complex tasks into smaller, manageable parts to be completed. They are basically a set of instructions to perform a specific task (like a recipe).\n",
        "\n",
        "* ***Reusability:*** Functions can be reused throughout a program multiple times and can be called from different parts within the program.\n",
        "\n",
        "* ***Code Organization:*** Functions help in organizing code by separating different tasks into individual blocks of code. This will help you improve the readability (and maintainabilty) of your program.\n",
        "\n",
        "* ***Abstraction:*** Functions hides the implementation details of a task; meaning it doesn't always show how the task is internally performed.\n",
        "\n",
        "* ***Parameter Passing:*** Functions can leverage parameters, which are values passed into the function for it to work with. Parameters allow you a way to customize the behavior of your function.\n",
        "\n",
        "* ***Returns Values:*** Functions can return a value or result after performing their task. The return statement allows a function to send a value back to the caller.\n",
        "\n",
        "* ***Function Composition:*** Functions can be nested together, meaning that the output of one function can be used as the input for another function."
      ],
      "metadata": {
        "id": "jxuqvQ8nvUXS"
      }
    },
    {
      "cell_type": "code",
      "source": [
        "#Modularity\n",
        "def greet():\n",
        "    print(\"Hello, class!\")\n",
        "\n",
        "greet()"
      ],
      "metadata": {
        "colab": {
          "base_uri": "https://localhost:8080/"
        },
        "id": "Ue1mHfPfvXKA",
        "outputId": "fb490d6a-e4f4-4ea5-c02c-c62c6caac4a6"
      },
      "execution_count": 40,
      "outputs": [
        {
          "output_type": "stream",
          "name": "stdout",
          "text": [
            "Hello, class!\n"
          ]
        }
      ]
    },
    {
      "cell_type": "code",
      "source": [
        "#Parameter passing\n",
        "# Parameter in this example is name\n",
        "# Arguement passed in this example is Alice and Bob\n",
        "def greet(name):\n",
        "    print(\"Hello,\", name)\n",
        "\n",
        "greet(\"Alice\")\n",
        "\n",
        "#Reusability\n",
        "greet(\"Bob\")"
      ],
      "metadata": {
        "colab": {
          "base_uri": "https://localhost:8080/"
        },
        "id": "qNtswnRc0-kl",
        "outputId": "5af49070-a752-4ebf-eb90-35a9406f0cee"
      },
      "execution_count": 41,
      "outputs": [
        {
          "output_type": "stream",
          "name": "stdout",
          "text": [
            "Hello, Alice\n",
            "Hello, Bob\n"
          ]
        }
      ]
    },
    {
      "cell_type": "code",
      "source": [
        "##Returns Values\n",
        "def add_numbers(a, b):\n",
        "    return a + b\n",
        "\n",
        "result = add_numbers(5, 3)\n",
        "print(\"Result:\", result)"
      ],
      "metadata": {
        "colab": {
          "base_uri": "https://localhost:8080/"
        },
        "id": "lBAQ6_7k3A-t",
        "outputId": "7cd53838-0a23-449f-c321-e3514a861156"
      },
      "execution_count": 42,
      "outputs": [
        {
          "output_type": "stream",
          "name": "stdout",
          "text": [
            "Result: 8\n"
          ]
        }
      ]
    },
    {
      "cell_type": "code",
      "source": [
        "#Function Composition\n",
        "def greet(name):\n",
        "    return \"Hello, \" + name\n",
        "\n",
        "def emphasize(text):\n",
        "    return text.upper() + \"!\"\n",
        "\n",
        "result = emphasize(greet(\"Class\"))\n",
        "print(result)"
      ],
      "metadata": {
        "colab": {
          "base_uri": "https://localhost:8080/"
        },
        "id": "3aV_MPfT3_N6",
        "outputId": "523fcf53-68e1-4786-a12e-e66a36542c15"
      },
      "execution_count": 43,
      "outputs": [
        {
          "output_type": "stream",
          "name": "stdout",
          "text": [
            "HELLO, CLASS!\n"
          ]
        }
      ]
    },
    {
      "cell_type": "markdown",
      "source": [
        "# **Classes, Conditional Statements, and Loops**"
      ],
      "metadata": {
        "id": "qy8kTF6lCpTB"
      }
    },
    {
      "cell_type": "markdown",
      "source": [
        "## **Classes**\n",
        "A class is a blueprint or template for representing complex data structures (objects). It defines a set of attributes (variables) and methods (functions) that the objects of that class will possess. Basically, it allows you to save multiple simple or complex datatypes in variables (like a dictionary, but more \"elegant\").\n",
        "\n",
        "***Class Characteristics:***\n",
        "\n",
        "* ***Objects:*** An object is a specific occurrence or realization of a class. EX: Class that is a \"Student,\" objects for this class could be specific students.\n",
        "\n",
        "* ***Attributes:*** Attributes store associated with the class. Attributes represent the state or characteristics of the objects created from the class; EX: name of the student, their age, and thier masters program.\n",
        "\n",
        "* ***Methods:*** Methods are functions defined within the class. Methods define the behavior or actions that objects of the class can perform.\n",
        "EX: \"Student\" class might have methods like wakeUp(), study(), and sleep()\n",
        "\n",
        "* ***Inheritance:*** Inheritance allows you to create new classes based on existing ones. This allows you to reure code and can help create hierarchical relationships between classes. IE: A new class, called a subclass or derived class, can inherit attributes and methods from its parent class, called a superclass or base class.\n",
        "\n",
        "* ***Polymorphism:*** Polymophism means that objects of different classes can be used interchangeably if they share a common interface (attributes and methods).\n",
        "\n",
        "* ***Modularity:*** Classes promote modularity by breaking down complex systems into smaller, more manageable parts. Each class represents a distinct component or entity of the system, making it easier to understand and maintain the code."
      ],
      "metadata": {
        "id": "0r54hb6xIYqR"
      }
    },
    {
      "cell_type": "code",
      "source": [
        "#Objects\n",
        "\n",
        "class Student:\n",
        "    pass\n",
        "\n",
        "# Creating objects/instances\n",
        "student1 = Student()\n",
        "student2 = Student()"
      ],
      "metadata": {
        "id": "PccgA3wayDFZ"
      },
      "execution_count": 44,
      "outputs": []
    },
    {
      "cell_type": "code",
      "source": [
        "#Attributes\n",
        "\n",
        "class Student:\n",
        "    def __init__(self, name, age, masters):\n",
        "        self.name = name\n",
        "        self.age = age\n",
        "        self.masters = masters\n",
        "\n",
        "# Creating objects with attributes\n",
        "student1 = Student(\"John\", 20, \"SOT\")\n",
        "student2 = Student(\"Alice\", 22, \"SRM\")\n",
        "student3 = Student(\"Mary\", 28, \"SOT\")\n",
        "\n",
        "# Accessing attributes\n",
        "print(student1.name)\n",
        "print(student2.age)\n",
        "print(student3.masters)"
      ],
      "metadata": {
        "colab": {
          "base_uri": "https://localhost:8080/"
        },
        "id": "XYbMxbKQyMoC",
        "outputId": "36de725a-8869-4773-bcdc-466b8d31aa95"
      },
      "execution_count": 45,
      "outputs": [
        {
          "output_type": "stream",
          "name": "stdout",
          "text": [
            "John\n",
            "22\n",
            "SOT\n"
          ]
        }
      ]
    },
    {
      "cell_type": "code",
      "source": [
        "#Methods\n",
        "\n",
        "class Student:\n",
        "    def __init__(self, name, age, masters):\n",
        "        self.name = name\n",
        "        self.age = age\n",
        "        self.masters = masters\n",
        "\n",
        "    def introduce(self):\n",
        "        print(\"Hello, my name is\", self.name, \"and I'm\", self.age, \"years old and I am studying\", self.masters,\".\")\n",
        "\n",
        "# Creating objects with attributes\n",
        "student1 = Student(\"John\", 20, \"SOT\")\n",
        "student2 = Student(\"Alice\", 22, \"SRM\")\n",
        "student3 = Student(\"Mary\", 28, \"SOT\")\n",
        "\n",
        "# Accessing attributes\n",
        "student1.introduce()\n",
        "student2.introduce()\n",
        "student3.introduce()"
      ],
      "metadata": {
        "colab": {
          "base_uri": "https://localhost:8080/"
        },
        "id": "Fq7NGKxYyx5K",
        "outputId": "518866a1-424e-4e82-9aa4-eac3d783f871"
      },
      "execution_count": 46,
      "outputs": [
        {
          "output_type": "stream",
          "name": "stdout",
          "text": [
            "Hello, my name is John and I'm 20 years old and I am studying SOT .\n",
            "Hello, my name is Alice and I'm 22 years old and I am studying SRM .\n",
            "Hello, my name is Mary and I'm 28 years old and I am studying SOT .\n"
          ]
        }
      ]
    },
    {
      "cell_type": "code",
      "source": [
        "#Inheritance\n",
        "\n",
        "# Base class\n",
        "class Person:\n",
        "    def __init__(self, name):\n",
        "        self._name = name\n",
        "\n",
        "    def introduce(self):\n",
        "        print(\"Hello, my name is\", self._name)\n",
        "\n",
        "# Derived class inheriting from Person\n",
        "class Student(Person):\n",
        "    def __init__(self, name, age, masters):\n",
        "        super().__init__(name)\n",
        "        self._age = age\n",
        "        self.masters = masters\n",
        "\n",
        "    def introduce(self):\n",
        "        super().introduce()\n",
        "        print(\"I'm\", self._age, \"years old and I am studying\", self.masters,\".\")\n",
        "\n",
        "# Creating objects\n",
        "person = Person(\"John\")\n",
        "person.introduce()\n",
        "\n",
        "student = Student(\"Alice\", 22, \"SRM\")\n",
        "student.introduce()"
      ],
      "metadata": {
        "colab": {
          "base_uri": "https://localhost:8080/"
        },
        "id": "6ckJZgArz9et",
        "outputId": "b471ad97-b344-4428-a13c-d44c777dc2dd"
      },
      "execution_count": 47,
      "outputs": [
        {
          "output_type": "stream",
          "name": "stdout",
          "text": [
            "Hello, my name is John\n",
            "Hello, my name is Alice\n",
            "I'm 22 years old and I am studying SRM .\n"
          ]
        }
      ]
    },
    {
      "cell_type": "markdown",
      "source": [
        "## **Conditional Statements**\n",
        "\n",
        "Conditional statements allow you to make decisions and control the flow of your program based on certain conditions. They enable your program to execute different blocks of code depending on whether a condition is true or false.\n",
        "\n",
        "\n",
        "* ***Decision Making:*** Conditional statements allow your program to make decisions based on certain conditions. They evaluate conditions and execute different blocks of code depending on whether the condition is true or false.\n",
        "\n",
        "* ***Condition Evaluation:*** Conditional statements evaluate conditions using comparison operators (e.g., ==, !=, <, >, <=, >=). Results in either True or False.\n",
        "* ***Branching:*** Branching allows your program to follow different paths of execution based on the condition's outcome. It helps your program take different actions depending on the situation.\n",
        "\n",
        "* ***Multiple Conditions:*** Conditional statements can include multiple conditions using logical operators (e.g., and, or, not). These operators allow you to combine conditions and create complex decision-making scenarios.\n",
        "\n",
        "* ***Nested Conditions:*** Conditional statements can be nested within each other, allowing for more complex decision-making. Inner conditions are evaluated only if the outer condition is true."
      ],
      "metadata": {
        "id": "OatCobPeIiNv"
      }
    },
    {
      "cell_type": "code",
      "source": [
        "#Decision Making, Condition Evaluation, and Branching\n",
        "weather = \"sunny\"\n",
        "\n",
        "if weather == \"sunny\":\n",
        "# if weather variable is equal to \"sunny\" then this will equal to true and will print \"It's a sunny day!\" if it is not true, it will continue to the elif statement then to else\n",
        "    print(\"It's a sunny day!\")\n",
        "elif weather == \"cloudy\":\n",
        "    print(\"It's a cloudy day.\")\n",
        "else:\n",
        "    print(\"The weather is unknown.\")"
      ],
      "metadata": {
        "colab": {
          "base_uri": "https://localhost:8080/"
        },
        "id": "5XfdVJQC6XSV",
        "outputId": "3fea78a8-c9b2-4e65-f69d-a8f207afe428"
      },
      "execution_count": 48,
      "outputs": [
        {
          "output_type": "stream",
          "name": "stdout",
          "text": [
            "It's a sunny day!\n"
          ]
        }
      ]
    },
    {
      "cell_type": "code",
      "source": [
        "#Multiple Conditions\n",
        "temperature = 25\n",
        "is_raining = False\n",
        "\n",
        "if temperature > 30 and not is_raining:\n",
        "    print(\"It's a hot and sunny day!\")\n",
        "elif temperature < 10 or is_raining:\n",
        "    print(\"It's either cold or raining.\")\n",
        "else:\n",
        "    print(\"The weather is moderate.\")"
      ],
      "metadata": {
        "colab": {
          "base_uri": "https://localhost:8080/"
        },
        "id": "qsikqPp06YrN",
        "outputId": "2bd95aac-5c4b-418f-c2c9-53a18039181f"
      },
      "execution_count": 49,
      "outputs": [
        {
          "output_type": "stream",
          "name": "stdout",
          "text": [
            "The weather is moderate.\n"
          ]
        }
      ]
    },
    {
      "cell_type": "code",
      "source": [
        "#Nested Conditions\n",
        "\n",
        "temperature = 32\n",
        "is_raining = True\n",
        "\n",
        "if temperature > 30:\n",
        "    if is_raining == True:\n",
        "        print(\"It's hot and raining outside.\")\n",
        "    else:\n",
        "        print(\"It's a hot and sunny day!\")\n",
        "elif temperature < 10 or is_raining:\n",
        "    print(\"It's either cold or raining.\")\n",
        "else:\n",
        "    print(\"The weather is moderate.\")"
      ],
      "metadata": {
        "colab": {
          "base_uri": "https://localhost:8080/"
        },
        "id": "rXTYLyO76kDd",
        "outputId": "0708058f-d44a-4a1b-8af8-debd4c062095"
      },
      "execution_count": 50,
      "outputs": [
        {
          "output_type": "stream",
          "name": "stdout",
          "text": [
            "It's hot and raining outside.\n"
          ]
        }
      ]
    },
    {
      "cell_type": "markdown",
      "source": [
        "## **Loops**\n",
        "\n",
        "***Loop Characteristics***\n",
        "* ***Iteration:*** Loops iterate over a sequence of elements such as a list, string, or range of numbers. It repeatedly executes the same code for each item in the sequence.\n",
        "\n",
        "* ***Repetition:*** Loops allow you to repeat a block of code multiple times. Loops will help you automate repetitive tasks and will save you from writing the same code over and over again.\n",
        "\n",
        "* ***Condition-based Execution:*** Loops can execute a block of code as long as a certain condition is true. The loop continues until the condition becomes false.\n",
        "\n",
        "* ***Control Flow:*** Loops provide control flow statements (such as \"break\" and \"continue\") to modify the loop's behavior. \"break\" terminates the loop prematurely, and \"continue\" skips the current iteration and proceeds to the next iteration.\n",
        "\n",
        "* ***Nested Loops:*** Loops can be nested within each other\n",
        "\n",
        "This results in three types of loops: for, while, and break & continue\n"
      ],
      "metadata": {
        "id": "s5xi_qxMInIZ"
      }
    },
    {
      "cell_type": "code",
      "source": [
        "#Iteration & Repetition\n",
        "\n",
        "cities = [\"Munich\", \"Berlin\", \"Paris\", \"London\"]\n",
        "for city in cities:\n",
        "    print(city)"
      ],
      "metadata": {
        "colab": {
          "base_uri": "https://localhost:8080/"
        },
        "id": "wkEwAr5j9SBW",
        "outputId": "41d3eb0a-177b-4abd-e079-c0e3b6c5d01b"
      },
      "execution_count": 51,
      "outputs": [
        {
          "output_type": "stream",
          "name": "stdout",
          "text": [
            "Munich\n",
            "Berlin\n",
            "Paris\n",
            "London\n"
          ]
        }
      ]
    },
    {
      "cell_type": "code",
      "source": [
        "#Condition-based execution\n",
        "count = 1\n",
        "while count <= 5:\n",
        "    print(count)\n",
        "    count += 1 #stops after 5"
      ],
      "metadata": {
        "colab": {
          "base_uri": "https://localhost:8080/"
        },
        "id": "OduEtAzh9iW-",
        "outputId": "b660869d-0814-4c72-f1a2-5546abd1dc25"
      },
      "execution_count": 52,
      "outputs": [
        {
          "output_type": "stream",
          "name": "stdout",
          "text": [
            "1\n",
            "2\n",
            "3\n",
            "4\n",
            "5\n"
          ]
        }
      ]
    },
    {
      "cell_type": "code",
      "source": [
        "#Control flow\n",
        "for num in range(1, 6):\n",
        "    if num == 3:\n",
        "        break  # Terminate the loop when num is 3\n",
        "    if num == 2:\n",
        "        continue  # Skip the iteration when num is 2\n",
        "    print(num)"
      ],
      "metadata": {
        "colab": {
          "base_uri": "https://localhost:8080/"
        },
        "id": "nL6ykGKC9rKD",
        "outputId": "38aff7d3-590e-450f-e385-c4658d670b41"
      },
      "execution_count": 53,
      "outputs": [
        {
          "output_type": "stream",
          "name": "stdout",
          "text": [
            "1\n"
          ]
        }
      ]
    },
    {
      "cell_type": "code",
      "source": [
        "#Nested loops\n",
        "for i in range(1, 4):\n",
        "    for j in range(1, 4):\n",
        "        print(i, j)"
      ],
      "metadata": {
        "id": "lOWo3Egn9yIN",
        "colab": {
          "base_uri": "https://localhost:8080/"
        },
        "outputId": "4491ea97-9dca-43fc-bc67-c73b3c8f6213"
      },
      "execution_count": 54,
      "outputs": [
        {
          "output_type": "stream",
          "name": "stdout",
          "text": [
            "1 1\n",
            "1 2\n",
            "1 3\n",
            "2 1\n",
            "2 2\n",
            "2 3\n",
            "3 1\n",
            "3 2\n",
            "3 3\n"
          ]
        }
      ]
    },
    {
      "cell_type": "markdown",
      "source": [
        "### **for**\n",
        "A for loop iterates over a sequence of elements (e.g., a list, string, or range of numbers). It executes a block of code for each item in the sequence."
      ],
      "metadata": {
        "id": "gKHFA7RGI4ZF"
      }
    },
    {
      "cell_type": "code",
      "source": [
        "cities = [\"Munich\", \"Berlin\", \"Paris\", \"London\"]\n",
        "for city in cities:\n",
        "    print(city)"
      ],
      "metadata": {
        "id": "BWb2oOzI-DpK",
        "colab": {
          "base_uri": "https://localhost:8080/"
        },
        "outputId": "6a00ed5d-a2b4-47c6-a343-9192e4f0ef65"
      },
      "execution_count": 55,
      "outputs": [
        {
          "output_type": "stream",
          "name": "stdout",
          "text": [
            "Munich\n",
            "Berlin\n",
            "Paris\n",
            "London\n"
          ]
        }
      ]
    },
    {
      "cell_type": "markdown",
      "source": [
        "### **while**\n",
        "A while loop repeatedly executes a block of code as long as a specified condition remains true. It keeps iterating until the condition becomes false."
      ],
      "metadata": {
        "id": "OXrDVYIdI4eE"
      }
    },
    {
      "cell_type": "code",
      "source": [
        "count = 1\n",
        "while count <= 5:\n",
        "    print(count)\n",
        "    count += 1"
      ],
      "metadata": {
        "id": "vg3suQPH928W",
        "colab": {
          "base_uri": "https://localhost:8080/"
        },
        "outputId": "4909cefe-0c7b-4eef-8074-d822cfb53e06"
      },
      "execution_count": 56,
      "outputs": [
        {
          "output_type": "stream",
          "name": "stdout",
          "text": [
            "1\n",
            "2\n",
            "3\n",
            "4\n",
            "5\n"
          ]
        }
      ]
    },
    {
      "cell_type": "markdown",
      "source": [
        "### **break & continue**\n",
        "Break and continue statements are used within loops to control the flow of execution.\n",
        "\n",
        "Break: The break statement terminates the loop prematurely, exiting the loop's block of code.\n",
        "\n",
        "Continue: The continue statement skips the current iteration of the loop and proceeds to the next iteration."
      ],
      "metadata": {
        "id": "yEDnc7U_I4PH"
      }
    },
    {
      "cell_type": "code",
      "source": [
        "for num in range(1, 6):\n",
        "    if num == 3:\n",
        "        break  # Terminate the loop when num is 3\n",
        "    if num == 2:\n",
        "        continue  # Skip the iteration when num is 2\n",
        "    print(num)"
      ],
      "metadata": {
        "id": "pispayas-LET",
        "colab": {
          "base_uri": "https://localhost:8080/"
        },
        "outputId": "f0745204-84ea-4dd5-f03e-5f7d97c62658"
      },
      "execution_count": 57,
      "outputs": [
        {
          "output_type": "stream",
          "name": "stdout",
          "text": [
            "1\n"
          ]
        }
      ]
    },
    {
      "cell_type": "markdown",
      "source": [
        "## **Self-Study Module Exercise - Temperature in Celsius**\n",
        "\n",
        "Temperature Conversion:\n",
        "\n",
        "* Write a Python script that asks the user to input a temperature in Celsius.\n",
        "\n",
        "* Use an if statement to check if the temperature is below freezing (0 degrees Celsius) and print \"It's freezing!\" if true. If not, print \"It's not freezing.\""
      ],
      "metadata": {
        "id": "a2mrWcEjRdrI"
      }
    },
    {
      "cell_type": "code",
      "source": [
        "temp_cecius= float(input(\"Please input a temperature in celcius\"))\n",
        "\n",
        "if temp_cecius < 0:\n",
        "  print(\"it's freezing\")\n",
        "else:\n",
        "  print(\"it's not freezing\")"
      ],
      "metadata": {
        "colab": {
          "base_uri": "https://localhost:8080/"
        },
        "id": "Nj1eTyeiM5vA",
        "outputId": "660835bb-2f36-4937-972b-f25c493db374"
      },
      "execution_count": 60,
      "outputs": [
        {
          "output_type": "stream",
          "name": "stdout",
          "text": [
            "Please input a temperature in celcius-1\n",
            "it's freezing\n"
          ]
        }
      ]
    }
  ]
}